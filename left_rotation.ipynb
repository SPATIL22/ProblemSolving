{
 "cells": [
  {
   "cell_type": "markdown",
   "metadata": {},
   "source": [
    "# LEFT ROTATION OF AN ARRAY\n",
    "\n",
    "\n",
    "Given an array a of n integers and a number d.\n",
    "perform  left rotations on the array. \n",
    "Return the updated array to be printed as a single line of space-separated integers.\n",
    "\n",
    "Example:\n",
    "a= [1,2,3,4,5]\n",
    "d= 2\n",
    "\n",
    "o/p= 3 4 5 1 2"
   ]
  },
  {
   "cell_type": "code",
   "execution_count": 1,
   "metadata": {},
   "outputs": [
    {
     "name": "stdout",
     "output_type": "stream",
     "text": [
      "Enter a size of an array: 4\n",
      "Enter elements of an array: \n",
      "1\n",
      "2\n",
      "3\n",
      "4\n",
      "How many number of left rotations to be performed? 2\n"
     ]
    },
    {
     "data": {
      "text/plain": [
       "[3, 4, 1, 2]"
      ]
     },
     "execution_count": 1,
     "metadata": {},
     "output_type": "execute_result"
    }
   ],
   "source": [
    "n = int(input(\"Enter a size of an array: \"))\n",
    "print(\"Enter elements of an array: \")\n",
    "a=[]\n",
    "for i in range(n):\n",
    "    element = int(input())\n",
    "    a.append(element)\n",
    "d = int(input(\"How many number of left rotations to be performed? \"))\n",
    "    \n",
    "def left_rotation(n,a,d):\n",
    "    for i in ([0]*d):\n",
    "        a.append(a.pop(i))\n",
    "    return a\n",
    "left_rotation(n,a,d) "
   ]
  },
  {
   "cell_type": "code",
   "execution_count": null,
   "metadata": {
    "collapsed": true
   },
   "outputs": [],
   "source": []
  }
 ],
 "metadata": {
  "kernelspec": {
   "display_name": "Python 3",
   "language": "python",
   "name": "python3"
  },
  "language_info": {
   "codemirror_mode": {
    "name": "ipython",
    "version": 3
   },
   "file_extension": ".py",
   "mimetype": "text/x-python",
   "name": "python",
   "nbconvert_exporter": "python",
   "pygments_lexer": "ipython3",
   "version": "3.6.3"
  }
 },
 "nbformat": 4,
 "nbformat_minor": 2
}
