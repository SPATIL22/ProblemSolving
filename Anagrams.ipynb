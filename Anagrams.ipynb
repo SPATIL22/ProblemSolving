{
 "cells": [
  {
   "cell_type": "markdown",
   "metadata": {},
   "source": [
    "# Making Anagrams\n",
    "Given two strings a and b that may or may not be of the same length,\n",
    "determine the minimum number of character deletions required to make the a and b an anagrams.\n",
    "Any characters can be deleted from either of the strings."
   ]
  },
  {
   "cell_type": "code",
   "execution_count": 22,
   "metadata": {},
   "outputs": [
    {
     "name": "stdout",
     "output_type": "stream",
     "text": [
      "10\n"
     ]
    }
   ],
   "source": [
    "a = 'Shrutika Shripad Patil'\n",
    "b = 'Sidharth Kumar Jasra'\n",
    "\n",
    "A = list(a.strip().lower())\n",
    "B = list(b.strip().lower())\n",
    "count= 0\n",
    "for i in range(len(A)):\n",
    "    if A[i] in B: B.remove(A[i])\n",
    "    else: count += 1\n",
    "print(count + len(B))"
   ]
  },
  {
   "cell_type": "code",
   "execution_count": null,
   "metadata": {},
   "outputs": [],
   "source": []
  },
  {
   "cell_type": "code",
   "execution_count": null,
   "metadata": {
    "collapsed": true
   },
   "outputs": [],
   "source": []
  }
 ],
 "metadata": {
  "kernelspec": {
   "display_name": "Python 3",
   "language": "python",
   "name": "python3"
  },
  "language_info": {
   "codemirror_mode": {
    "name": "ipython",
    "version": 3
   },
   "file_extension": ".py",
   "mimetype": "text/x-python",
   "name": "python",
   "nbconvert_exporter": "python",
   "pygments_lexer": "ipython3",
   "version": "3.6.3"
  }
 },
 "nbformat": 4,
 "nbformat_minor": 2
}
