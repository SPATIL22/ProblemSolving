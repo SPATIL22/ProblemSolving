{
 "cells": [
  {
   "cell_type": "markdown",
   "metadata": {},
   "source": [
    "# You will be given two arrays of integers and asked to determine all integers that satisfy the following two conditions:\n",
    "* The elements of the first array are all factors of the integer being considered\n",
    "* The integer being considered is a factor of all elements of the second array"
   ]
  },
  {
   "cell_type": "code",
   "execution_count": 14,
   "metadata": {},
   "outputs": [
    {
     "data": {
      "text/plain": [
       "3"
      ]
     },
     "execution_count": 14,
     "metadata": {},
     "output_type": "execute_result"
    }
   ],
   "source": [
    "a = [2, 4]\n",
    "b = [16, 32, 96]\n",
    "\n",
    "def getTotalX(a, b):\n",
    "    X = []\n",
    "        \n",
    "    # Get all the numbers which are factors of all the integers in b\n",
    "    for i in range(1, max(b)+1):\n",
    "        X.append(i)\n",
    "        for j in range(len(b)):\n",
    "            if b[j]%i != 0 and i in X:\n",
    "                X.remove(i)\n",
    "                \n",
    "        for k in range(len(a)):\n",
    "            if i in X and i%a[k] != 0:\n",
    "                X.remove(i)\n",
    "\n",
    "    # and each integer in a should devide each one of those numbers perfectly.\n",
    "    \n",
    "    return len(X)\n",
    "    \n",
    "getTotalX(a, b)"
   ]
  },
  {
   "cell_type": "code",
   "execution_count": 9,
   "metadata": {},
   "outputs": [],
   "source": []
  },
  {
   "cell_type": "code",
   "execution_count": null,
   "metadata": {
    "collapsed": true
   },
   "outputs": [],
   "source": []
  }
 ],
 "metadata": {
  "kernelspec": {
   "display_name": "Python 3",
   "language": "python",
   "name": "python3"
  },
  "language_info": {
   "codemirror_mode": {
    "name": "ipython",
    "version": 3
   },
   "file_extension": ".py",
   "mimetype": "text/x-python",
   "name": "python",
   "nbconvert_exporter": "python",
   "pygments_lexer": "ipython3",
   "version": "3.6.3"
  }
 },
 "nbformat": 4,
 "nbformat_minor": 2
}
