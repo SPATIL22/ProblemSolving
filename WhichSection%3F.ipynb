{
 "cells": [
  {
   "cell_type": "markdown",
   "metadata": {},
   "source": [
    "# You want to create an application for a school\n",
    "\n",
    "The school term starts soon, and the students need to be sorted into their respective sections. There are n students numbered  1 to n, and  m sections numbered 1 to m.\n",
    "\n",
    "Section i needs to have exactly a-i number of students. To simplify the process, the school has decided to assign students to sections in increasing student number, which means the first a-1 students will be assigned section 1 , the next a-2 students will be assigned section 2, and so on.\n",
    "\n",
    "Your student number is k. Which section will you be assigned to?\n",
    "\n",
    "Complete the function whichSection which takes in two integers n and k and an integer array a = [a-1, a-2, - - - - , a-m] and returns the section number you will be assigned to, assuming you are student number k."
   ]
  },
  {
   "cell_type": "code",
   "execution_count": 11,
   "metadata": {},
   "outputs": [
    {
     "data": {
      "text/plain": [
       "3"
      ]
     },
     "execution_count": 11,
     "metadata": {},
     "output_type": "execute_result"
    }
   ],
   "source": [
    "\n",
    "a = [11, 24, 420, 6, 9]\n",
    "n = 470\n",
    "k = 143\n",
    "m = 5\n",
    "\n",
    "\n",
    "def whichSection(n, k, a):\n",
    "    temp = 0\n",
    "    for i in range(m):\n",
    "        a[i] = a[i] + temp\n",
    "        temp = a[i]\n",
    "    section = 1\n",
    "    for i in range(len(a)):\n",
    "        if k <= a[i]: \n",
    "            section += i \n",
    "            break\n",
    "    return section\n",
    "\n",
    "\n",
    "whichSection(n, k, a)"
   ]
  },
  {
   "cell_type": "code",
   "execution_count": null,
   "metadata": {
    "collapsed": true
   },
   "outputs": [],
   "source": []
  }
 ],
 "metadata": {
  "kernelspec": {
   "display_name": "Python 3",
   "language": "python",
   "name": "python3"
  },
  "language_info": {
   "codemirror_mode": {
    "name": "ipython",
    "version": 3
   },
   "file_extension": ".py",
   "mimetype": "text/x-python",
   "name": "python",
   "nbconvert_exporter": "python",
   "pygments_lexer": "ipython3",
   "version": "3.6.3"
  }
 },
 "nbformat": 4,
 "nbformat_minor": 2
}
