{
 "cells": [
  {
   "cell_type": "markdown",
   "metadata": {},
   "source": [
    "# Take a Number as input and check if number is palindrome number"
   ]
  },
  {
   "cell_type": "code",
   "execution_count": null,
   "metadata": {},
   "outputs": [],
   "source": [
    "# Way 1\n",
    "\n",
    "arr = list(input())\n",
    "out= True\n",
    "if len(arr)%2==0:\n",
    "    for i in range(int(len(arr)/2)):\n",
    "        if arr[i]!=arr[len(arr)-1-i]:\n",
    "            out = False     \n",
    "else:\n",
    "    for i in range(int(len(arr)-1/2)):\n",
    "        if arr[i]!=arr[len(arr)-1-i]:\n",
    "            out = False\n",
    "print(out)"
   ]
  },
  {
   "cell_type": "code",
   "execution_count": null,
   "metadata": {},
   "outputs": [],
   "source": [
    "# Way 2\n",
    "\n",
    "s = input()\n",
    "\n",
    "rev = arr[::-1]\n",
    "\n",
    "if arr == rev:\n",
    "    print(True)\n",
    "    \n",
    "else:\n",
    "    print(False)"
   ]
  },
  {
   "cell_type": "code",
   "execution_count": null,
   "metadata": {
    "collapsed": true
   },
   "outputs": [],
   "source": [
    "# Way 3\n",
    "# using reversed function\n",
    "\n",
    "s = input()\n",
    "\n",
    "rev = ''.join(reversed(s))\n",
    "\n",
    "if s == rev:\n",
    "    print(True)\n",
    "    \n",
    "else:\n",
    "    print(False)"
   ]
  },
  {
   "cell_type": "code",
   "execution_count": null,
   "metadata": {
    "collapsed": true
   },
   "outputs": [],
   "source": []
  }
 ],
 "metadata": {
  "kernelspec": {
   "display_name": "Python 3",
   "language": "python",
   "name": "python3"
  },
  "language_info": {
   "codemirror_mode": {
    "name": "ipython",
    "version": 3
   },
   "file_extension": ".py",
   "mimetype": "text/x-python",
   "name": "python",
   "nbconvert_exporter": "python",
   "pygments_lexer": "ipython3",
   "version": "3.6.3"
  }
 },
 "nbformat": 4,
 "nbformat_minor": 2
}
