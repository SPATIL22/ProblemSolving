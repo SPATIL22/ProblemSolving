{
 "cells": [
  {
   "cell_type": "markdown",
   "metadata": {},
   "source": [
    "# Problem: Take comma seperated numbers as input and display the Number which represents the sum of numbers with exactly 3 factors."
   ]
  },
  {
   "cell_type": "code",
   "execution_count": null,
   "metadata": {},
   "outputs": [],
   "source": [
    "# 1, 2, 3, 26, 6\n",
    "arr = list(map(int, input().strip().lower().split(',')))\n",
    "Nums_ExactlyThreeFactors = []\n",
    "for i in range(len(arr)):\n",
    "    count = 0\n",
    "    for j in range(1, arr[i]):\n",
    "        if arr[i]%j == 0:\n",
    "            count+=1\n",
    "    if count == 3:\n",
    "        Nums_ExactlyThreeFactors.append(arr[i])\n",
    "        \n",
    "print(sum(Nums_ExactlyThreeFactors))"
   ]
  },
  {
   "cell_type": "code",
   "execution_count": null,
   "metadata": {
    "collapsed": true
   },
   "outputs": [],
   "source": []
  }
 ],
 "metadata": {
  "kernelspec": {
   "display_name": "Python 3",
   "language": "python",
   "name": "python3"
  },
  "language_info": {
   "codemirror_mode": {
    "name": "ipython",
    "version": 3
   },
   "file_extension": ".py",
   "mimetype": "text/x-python",
   "name": "python",
   "nbconvert_exporter": "python",
   "pygments_lexer": "ipython3",
   "version": "3.6.3"
  }
 },
 "nbformat": 4,
 "nbformat_minor": 2
}
